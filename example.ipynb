{
 "cells": [
  {
   "cell_type": "markdown",
   "metadata": {},
   "source": [
    "# pandoc anywidget"
   ]
  },
  {
   "cell_type": "code",
   "execution_count": null,
   "metadata": {},
   "outputs": [
    {
     "data": {
      "application/vnd.jupyter.widget-view+json": {
       "model_id": "60a0a3d77310409bb3ee89e225f4d79a",
       "version_major": 2,
       "version_minor": 1
      },
      "text/plain": [
       "pandocWidget(headless=True, response={'status': 'initialising'})"
      ]
     },
     "metadata": {},
     "output_type": "display_data"
    },
    {
     "data": {
      "text/plain": [
       "({'status': 'ready', 'time': 1.7941226959228516},\n",
       " {'widget': 'jupyter_anywidget_pandoc', 'pandoc_version': '3.1.11.1'})"
      ]
     },
     "execution_count": 1,
     "metadata": {},
     "output_type": "execute_result"
    }
   ],
   "source": [
    "from jupyter_anywidget_pandoc import pandoc_headless\n",
    "\n",
    "%load_ext jupyter_anywidget_pandoc\n",
    "\n",
    "# Load the widget\n",
    "p = pandoc_headless()\n",
    "\n",
    "# Wait for pandoc to load\n",
    "p.ready()\n",
    "\n",
    "# Display status\n",
    "p.response, p.about"
   ]
  },
  {
   "cell_type": "code",
   "execution_count": 3,
   "metadata": {},
   "outputs": [],
   "source": [
    "%%pandoc_magic --widget-name p\n",
    "# Header \n",
    "some test text with *empsasis* and __strong_emphasis__, and:\n",
    "\n",
    "- a list item\n",
    "- another list item\n"
   ]
  },
  {
   "cell_type": "code",
   "execution_count": 4,
   "metadata": {},
   "outputs": [
    {
     "data": {
      "text/plain": [
       "{'status': 'completed',\n",
       " 'output_raw': '<h1 id=\"header\">Header</h1>\\n<p>some test text with <em>empsasis</em> and\\n<strong>strong_emphasis</strong>, and:</p>\\n<ul>\\n<li>a list item</li>\\n<li>another list item</li>\\n</ul>'}"
      ]
     },
     "execution_count": 4,
     "metadata": {},
     "output_type": "execute_result"
    }
   ],
   "source": [
    "p.response"
   ]
  },
  {
   "cell_type": "code",
   "execution_count": 5,
   "metadata": {},
   "outputs": [
    {
     "data": {
      "text/plain": [
       "'# Header \\nsome test text with *empsasis* and __strong_emphasis__, and:\\n\\n- a list item\\n- another list item\\n'"
      ]
     },
     "execution_count": 5,
     "metadata": {},
     "output_type": "execute_result"
    }
   ],
   "source": [
    "p.doc_content"
   ]
  },
  {
   "cell_type": "code",
   "execution_count": 6,
   "metadata": {},
   "outputs": [
    {
     "data": {
      "text/plain": [
       "'<h1 id=\"header\">Header</h1>\\n<p>some test text with <em>empsasis</em> and\\n<strong>strong_emphasis</strong>, and:</p>\\n<ul>\\n<li>a list item</li>\\n<li>another list item</li>\\n</ul>'"
      ]
     },
     "execution_count": 6,
     "metadata": {},
     "output_type": "execute_result"
    }
   ],
   "source": [
    "p.output_raw"
   ]
  },
  {
   "cell_type": "code",
   "execution_count": 8,
   "metadata": {},
   "outputs": [
    {
     "data": {
      "text/plain": [
       "'<h2 id=\"some-markdown\">Some markdown</h2>\\n<p>With <em>feeling…</em></p>'"
      ]
     },
     "execution_count": 8,
     "metadata": {},
     "output_type": "execute_result"
    }
   ],
   "source": [
    "p.convert(\"## Some markdown\\nWith *feeling...*\")"
   ]
  },
  {
   "cell_type": "code",
   "execution_count": 2,
   "metadata": {},
   "outputs": [
    {
     "data": {
      "text/plain": [
       "{'status': 'processing'}"
      ]
     },
     "execution_count": 2,
     "metadata": {},
     "output_type": "execute_result"
    }
   ],
   "source": [
    "p.base_convert(\"Another example\")\n",
    "p.response"
   ]
  },
  {
   "cell_type": "code",
   "execution_count": 3,
   "metadata": {},
   "outputs": [
    {
     "data": {
      "text/plain": [
       "{'status': 'completed', 'output_raw': '<p>Another example</p>'}"
      ]
     },
     "execution_count": 3,
     "metadata": {},
     "output_type": "execute_result"
    }
   ],
   "source": [
    "p.response"
   ]
  },
  {
   "cell_type": "code",
   "execution_count": null,
   "metadata": {},
   "outputs": [],
   "source": []
  }
 ],
 "metadata": {
  "kernelspec": {
   "display_name": "Python 3",
   "language": "python",
   "name": "python3"
  },
  "language_info": {
   "codemirror_mode": {
    "name": "ipython",
    "version": 3
   },
   "file_extension": ".py",
   "mimetype": "text/x-python",
   "name": "python",
   "nbconvert_exporter": "python",
   "pygments_lexer": "ipython3",
   "version": "3.11.0"
  }
 },
 "nbformat": 4,
 "nbformat_minor": 2
}
